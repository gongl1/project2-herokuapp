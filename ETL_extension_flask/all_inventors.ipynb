{
 "cells": [
  {
   "cell_type": "code",
   "execution_count": 1,
   "metadata": {},
   "outputs": [],
   "source": [
    "from census import Census\n",
    "import gmaps\n",
    "import numpy as np\n",
    "import pandas as pd\n",
    "import requests\n",
    "import time\n",
    "from scipy.stats import linregress\n",
    "from matplotlib import pyplot as plt\n",
    "\n"
   ]
  },
  {
   "cell_type": "code",
   "execution_count": 2,
   "metadata": {},
   "outputs": [
    {
     "name": "stderr",
     "output_type": "stream",
     "text": [
      "C:\\Users\\gongl\\AppData\\Roaming\\Python\\Python38\\site-packages\\IPython\\core\\interactiveshell.py:3165: DtypeWarning: Columns (0) have mixed types.Specify dtype option on import or set low_memory=False.\n",
      "  has_raised = await self.run_ast_nodes(code_ast.body, cell_name,\n"
     ]
    }
   ],
   "source": [
    "# df = pd.read_csv(\"./patent.tsv\", sep=\"\\t\", nrows = 500 )\n",
    "df = pd.read_csv(\"csv_patent_2019/all_inventors.csv\")"
   ]
  },
  {
   "cell_type": "code",
   "execution_count": 3,
   "metadata": {},
   "outputs": [
    {
     "data": {
      "text/html": [
       "<div>\n",
       "<style scoped>\n",
       "    .dataframe tbody tr th:only-of-type {\n",
       "        vertical-align: middle;\n",
       "    }\n",
       "\n",
       "    .dataframe tbody tr th {\n",
       "        vertical-align: top;\n",
       "    }\n",
       "\n",
       "    .dataframe thead th {\n",
       "        text-align: right;\n",
       "    }\n",
       "</style>\n",
       "<table border=\"1\" class=\"dataframe\">\n",
       "  <thead>\n",
       "    <tr style=\"text-align: right;\">\n",
       "      <th></th>\n",
       "      <th>application_number</th>\n",
       "      <th>inventor_name_first</th>\n",
       "      <th>inventor_name_middle</th>\n",
       "      <th>inventor_name_last</th>\n",
       "      <th>inventor_rank</th>\n",
       "      <th>inventor_city_name</th>\n",
       "      <th>inventor_region_code</th>\n",
       "      <th>inventor_country_code</th>\n",
       "    </tr>\n",
       "  </thead>\n",
       "  <tbody>\n",
       "    <tr>\n",
       "      <th>0</th>\n",
       "      <td>5692088</td>\n",
       "      <td>TROY</td>\n",
       "      <td>E.</td>\n",
       "      <td>PLUNK</td>\n",
       "      <td>1</td>\n",
       "      <td>Bedford</td>\n",
       "      <td>MA</td>\n",
       "      <td>US</td>\n",
       "    </tr>\n",
       "    <tr>\n",
       "      <th>1</th>\n",
       "      <td>5692088</td>\n",
       "      <td>JAMES</td>\n",
       "      <td>E.</td>\n",
       "      <td>HOPSON</td>\n",
       "      <td>2</td>\n",
       "      <td>Wellesley</td>\n",
       "      <td>MA</td>\n",
       "      <td>US</td>\n",
       "    </tr>\n",
       "    <tr>\n",
       "      <th>2</th>\n",
       "      <td>5692179</td>\n",
       "      <td>PIETRO</td>\n",
       "      <td></td>\n",
       "      <td>VENTRESCA</td>\n",
       "      <td>1</td>\n",
       "      <td>Littleton</td>\n",
       "      <td>MA</td>\n",
       "      <td>US</td>\n",
       "    </tr>\n",
       "    <tr>\n",
       "      <th>3</th>\n",
       "      <td>5692179</td>\n",
       "      <td>FRANCIS</td>\n",
       "      <td>J.</td>\n",
       "      <td>O'HARA</td>\n",
       "      <td>2</td>\n",
       "      <td>Bedford</td>\n",
       "      <td>MA</td>\n",
       "      <td>US</td>\n",
       "    </tr>\n",
       "    <tr>\n",
       "      <th>4</th>\n",
       "      <td>5692179</td>\n",
       "      <td>CHESTER</td>\n",
       "      <td>J.</td>\n",
       "      <td>HUNT</td>\n",
       "      <td>3</td>\n",
       "      <td>Melrose</td>\n",
       "      <td>MA</td>\n",
       "      <td>US</td>\n",
       "    </tr>\n",
       "  </tbody>\n",
       "</table>\n",
       "</div>"
      ],
      "text/plain": [
       "  application_number inventor_name_first inventor_name_middle  \\\n",
       "0            5692088                TROY                   E.   \n",
       "1            5692088               JAMES                   E.   \n",
       "2            5692179              PIETRO                        \n",
       "3            5692179             FRANCIS                   J.   \n",
       "4            5692179             CHESTER                   J.   \n",
       "\n",
       "  inventor_name_last  inventor_rank inventor_city_name inventor_region_code  \\\n",
       "0              PLUNK              1            Bedford                   MA   \n",
       "1             HOPSON              2          Wellesley                   MA   \n",
       "2          VENTRESCA              1          Littleton                   MA   \n",
       "3             O'HARA              2            Bedford                   MA   \n",
       "4               HUNT              3            Melrose                   MA   \n",
       "\n",
       "  inventor_country_code  \n",
       "0                    US  \n",
       "1                    US  \n",
       "2                    US  \n",
       "3                    US  \n",
       "4                    US  "
      ]
     },
     "execution_count": 3,
     "metadata": {},
     "output_type": "execute_result"
    }
   ],
   "source": [
    "# Final Dataframe I want !!! Below shows all cases!!! application_number can repeat in table below\n",
    "\n",
    "df.head()"
   ]
  },
  {
   "cell_type": "code",
   "execution_count": 9,
   "metadata": {},
   "outputs": [
    {
     "data": {
      "text/plain": [
       "application_number       29233628\n",
       "inventor_name_first      29221029\n",
       "inventor_name_middle     12058982\n",
       "inventor_name_last       29231538\n",
       "inventor_rank            29233628\n",
       "inventor_city_name       29134861\n",
       "inventor_region_code     15987987\n",
       "inventor_country_code    27446246\n",
       "dtype: int64"
      ]
     },
     "execution_count": 9,
     "metadata": {},
     "output_type": "execute_result"
    }
   ],
   "source": [
    "df.count()"
   ]
  },
  {
   "cell_type": "code",
   "execution_count": 10,
   "metadata": {},
   "outputs": [
    {
     "data": {
      "text/html": [
       "<div>\n",
       "<style scoped>\n",
       "    .dataframe tbody tr th:only-of-type {\n",
       "        vertical-align: middle;\n",
       "    }\n",
       "\n",
       "    .dataframe tbody tr th {\n",
       "        vertical-align: top;\n",
       "    }\n",
       "\n",
       "    .dataframe thead th {\n",
       "        text-align: right;\n",
       "    }\n",
       "</style>\n",
       "<table border=\"1\" class=\"dataframe\">\n",
       "  <thead>\n",
       "    <tr style=\"text-align: right;\">\n",
       "      <th></th>\n",
       "      <th>application_number</th>\n",
       "      <th>inventor_name_first</th>\n",
       "      <th>inventor_name_middle</th>\n",
       "      <th>inventor_name_last</th>\n",
       "      <th>inventor_rank</th>\n",
       "      <th>inventor_city_name</th>\n",
       "      <th>inventor_region_code</th>\n",
       "      <th>inventor_country_code</th>\n",
       "    </tr>\n",
       "  </thead>\n",
       "  <tbody>\n",
       "    <tr>\n",
       "      <th>0</th>\n",
       "      <td>5692088</td>\n",
       "      <td>TROY</td>\n",
       "      <td>E.</td>\n",
       "      <td>PLUNK</td>\n",
       "      <td>1</td>\n",
       "      <td>Bedford</td>\n",
       "      <td>MA</td>\n",
       "      <td>US</td>\n",
       "    </tr>\n",
       "    <tr>\n",
       "      <th>1</th>\n",
       "      <td>5692088</td>\n",
       "      <td>JAMES</td>\n",
       "      <td>E.</td>\n",
       "      <td>HOPSON</td>\n",
       "      <td>2</td>\n",
       "      <td>Wellesley</td>\n",
       "      <td>MA</td>\n",
       "      <td>US</td>\n",
       "    </tr>\n",
       "    <tr>\n",
       "      <th>2</th>\n",
       "      <td>5692179</td>\n",
       "      <td>PIETRO</td>\n",
       "      <td></td>\n",
       "      <td>VENTRESCA</td>\n",
       "      <td>1</td>\n",
       "      <td>Littleton</td>\n",
       "      <td>MA</td>\n",
       "      <td>US</td>\n",
       "    </tr>\n",
       "    <tr>\n",
       "      <th>3</th>\n",
       "      <td>5692179</td>\n",
       "      <td>FRANCIS</td>\n",
       "      <td>J.</td>\n",
       "      <td>O'HARA</td>\n",
       "      <td>2</td>\n",
       "      <td>Bedford</td>\n",
       "      <td>MA</td>\n",
       "      <td>US</td>\n",
       "    </tr>\n",
       "    <tr>\n",
       "      <th>4</th>\n",
       "      <td>5692179</td>\n",
       "      <td>CHESTER</td>\n",
       "      <td>J.</td>\n",
       "      <td>HUNT</td>\n",
       "      <td>3</td>\n",
       "      <td>Melrose</td>\n",
       "      <td>MA</td>\n",
       "      <td>US</td>\n",
       "    </tr>\n",
       "    <tr>\n",
       "      <th>...</th>\n",
       "      <td>...</td>\n",
       "      <td>...</td>\n",
       "      <td>...</td>\n",
       "      <td>...</td>\n",
       "      <td>...</td>\n",
       "      <td>...</td>\n",
       "      <td>...</td>\n",
       "      <td>...</td>\n",
       "    </tr>\n",
       "    <tr>\n",
       "      <th>29233623</th>\n",
       "      <td>15981088</td>\n",
       "      <td>Se Mi</td>\n",
       "      <td>NaN</td>\n",
       "      <td>JANG</td>\n",
       "      <td>1</td>\n",
       "      <td>Changwon-si</td>\n",
       "      <td>NaN</td>\n",
       "      <td>KR</td>\n",
       "    </tr>\n",
       "    <tr>\n",
       "      <th>29233624</th>\n",
       "      <td>16316883</td>\n",
       "      <td>Hernan</td>\n",
       "      <td>NaN</td>\n",
       "      <td>De La Vega</td>\n",
       "      <td>1</td>\n",
       "      <td>Neckarsulm</td>\n",
       "      <td>NaN</td>\n",
       "      <td>DE</td>\n",
       "    </tr>\n",
       "    <tr>\n",
       "      <th>29233625</th>\n",
       "      <td>16316883</td>\n",
       "      <td>Denis</td>\n",
       "      <td>NaN</td>\n",
       "      <td>Cichuta</td>\n",
       "      <td>2</td>\n",
       "      <td>Neckarsulm</td>\n",
       "      <td>NaN</td>\n",
       "      <td>DE</td>\n",
       "    </tr>\n",
       "    <tr>\n",
       "      <th>29233626</th>\n",
       "      <td>16316883</td>\n",
       "      <td>Christine</td>\n",
       "      <td>NaN</td>\n",
       "      <td>Wolff</td>\n",
       "      <td>3</td>\n",
       "      <td>Neckarsulm</td>\n",
       "      <td>NaN</td>\n",
       "      <td>DE</td>\n",
       "    </tr>\n",
       "    <tr>\n",
       "      <th>29233627</th>\n",
       "      <td>16316883</td>\n",
       "      <td>Benjamin</td>\n",
       "      <td>NaN</td>\n",
       "      <td>Zilch</td>\n",
       "      <td>4</td>\n",
       "      <td>Neckarsulm</td>\n",
       "      <td>NaN</td>\n",
       "      <td>DE</td>\n",
       "    </tr>\n",
       "  </tbody>\n",
       "</table>\n",
       "<p>29233627 rows × 8 columns</p>\n",
       "</div>"
      ],
      "text/plain": [
       "         application_number inventor_name_first inventor_name_middle  \\\n",
       "0                   5692088                TROY                   E.   \n",
       "1                   5692088               JAMES                   E.   \n",
       "2                   5692179              PIETRO                        \n",
       "3                   5692179             FRANCIS                   J.   \n",
       "4                   5692179             CHESTER                   J.   \n",
       "...                     ...                 ...                  ...   \n",
       "29233623           15981088               Se Mi                  NaN   \n",
       "29233624           16316883              Hernan                  NaN   \n",
       "29233625           16316883               Denis                  NaN   \n",
       "29233626           16316883           Christine                  NaN   \n",
       "29233627           16316883            Benjamin                  NaN   \n",
       "\n",
       "         inventor_name_last  inventor_rank inventor_city_name  \\\n",
       "0                     PLUNK              1            Bedford   \n",
       "1                    HOPSON              2          Wellesley   \n",
       "2                 VENTRESCA              1          Littleton   \n",
       "3                    O'HARA              2            Bedford   \n",
       "4                      HUNT              3            Melrose   \n",
       "...                     ...            ...                ...   \n",
       "29233623               JANG              1        Changwon-si   \n",
       "29233624         De La Vega              1         Neckarsulm   \n",
       "29233625            Cichuta              2         Neckarsulm   \n",
       "29233626              Wolff              3         Neckarsulm   \n",
       "29233627              Zilch              4         Neckarsulm   \n",
       "\n",
       "         inventor_region_code inventor_country_code  \n",
       "0                          MA                    US  \n",
       "1                          MA                    US  \n",
       "2                          MA                    US  \n",
       "3                          MA                    US  \n",
       "4                          MA                    US  \n",
       "...                       ...                   ...  \n",
       "29233623                  NaN                    KR  \n",
       "29233624                  NaN                    DE  \n",
       "29233625                  NaN                    DE  \n",
       "29233626                  NaN                    DE  \n",
       "29233627                  NaN                    DE  \n",
       "\n",
       "[29233627 rows x 8 columns]"
      ]
     },
     "execution_count": 10,
     "metadata": {},
     "output_type": "execute_result"
    }
   ],
   "source": [
    "result_df = df.drop_duplicates()\n",
    "result_df"
   ]
  },
  {
   "cell_type": "code",
   "execution_count": null,
   "metadata": {},
   "outputs": [],
   "source": []
  },
  {
   "cell_type": "code",
   "execution_count": 11,
   "metadata": {},
   "outputs": [
    {
     "data": {
      "text/plain": [
       "application_number       29233627\n",
       "inventor_name_first      29221028\n",
       "inventor_name_middle     12058981\n",
       "inventor_name_last       29231537\n",
       "inventor_rank            29233627\n",
       "inventor_city_name       29134860\n",
       "inventor_region_code     15987986\n",
       "inventor_country_code    27446245\n",
       "dtype: int64"
      ]
     },
     "execution_count": 11,
     "metadata": {},
     "output_type": "execute_result"
    }
   ],
   "source": [
    "result_df.count()"
   ]
  },
  {
   "cell_type": "code",
   "execution_count": null,
   "metadata": {},
   "outputs": [],
   "source": []
  },
  {
   "cell_type": "code",
   "execution_count": null,
   "metadata": {},
   "outputs": [],
   "source": []
  },
  {
   "cell_type": "code",
   "execution_count": 12,
   "metadata": {},
   "outputs": [
    {
     "data": {
      "text/plain": [
       "application_number       object\n",
       "inventor_name_first      object\n",
       "inventor_name_middle     object\n",
       "inventor_name_last       object\n",
       "inventor_rank             int64\n",
       "inventor_city_name       object\n",
       "inventor_region_code     object\n",
       "inventor_country_code    object\n",
       "dtype: object"
      ]
     },
     "execution_count": 12,
     "metadata": {},
     "output_type": "execute_result"
    }
   ],
   "source": [
    "result_df.dtypes"
   ]
  },
  {
   "cell_type": "code",
   "execution_count": 13,
   "metadata": {},
   "outputs": [],
   "source": [
    "from sqlalchemy import create_engine"
   ]
  },
  {
   "cell_type": "code",
   "execution_count": 14,
   "metadata": {},
   "outputs": [],
   "source": [
    "# Create database connection\n",
    "rds_connection_string = \"postgres:useyourpassword@localhost:5432/ETL_USPTO\"\n",
    "engine = create_engine(f'postgresql://{rds_connection_string}')"
   ]
  },
  {
   "cell_type": "code",
   "execution_count": 15,
   "metadata": {},
   "outputs": [
    {
     "data": {
      "text/plain": [
       "['patent_claims_stats',\n",
       " 'uspc_class_all',\n",
       " 'uspc_attorney_success_withnames',\n",
       " 'attorney_success_withnames',\n",
       " 'uspc_class_daysandrate',\n",
       " 'application_cleaned_all',\n",
       " 'application_cleaned_patented',\n",
       " 'all_inventors']"
      ]
     },
     "execution_count": 15,
     "metadata": {},
     "output_type": "execute_result"
    }
   ],
   "source": [
    "# Confirm tables\n",
    "engine.table_names()"
   ]
  },
  {
   "cell_type": "code",
   "execution_count": 18,
   "metadata": {},
   "outputs": [],
   "source": [
    "# Load DataFrames into database\n",
    "result_df.to_sql(name='all_inventors', con=engine, if_exists='append', index=False)"
   ]
  },
  {
   "cell_type": "code",
   "execution_count": null,
   "metadata": {},
   "outputs": [],
   "source": [
    "# read_df = pd.read_sql_query('select * from all_inventors', con=engine)"
   ]
  },
  {
   "cell_type": "code",
   "execution_count": null,
   "metadata": {},
   "outputs": [],
   "source": [
    "# read_df"
   ]
  },
  {
   "cell_type": "code",
   "execution_count": null,
   "metadata": {},
   "outputs": [],
   "source": []
  }
 ],
 "metadata": {
  "kernelspec": {
   "display_name": "Python 3",
   "language": "python",
   "name": "python3"
  },
  "language_info": {
   "codemirror_mode": {
    "name": "ipython",
    "version": 3
   },
   "file_extension": ".py",
   "mimetype": "text/x-python",
   "name": "python",
   "nbconvert_exporter": "python",
   "pygments_lexer": "ipython3",
   "version": "3.8.5"
  }
 },
 "nbformat": 4,
 "nbformat_minor": 4
}
